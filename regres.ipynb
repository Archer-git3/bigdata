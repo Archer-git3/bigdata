{
 "cells": [
  {
   "cell_type": "markdown",
   "metadata": {},
   "source": [
    "Import lib"
   ]
  },
  {
   "cell_type": "code",
   "execution_count": 1,
   "metadata": {},
   "outputs": [],
   "source": [
    "import pandas as pd\n",
    "import numpy as np\n",
    "import seaborn as sns\n",
    "import matplotlib.pyplot as plt\n",
    "import matplotlib\n",
    "matplotlib.use('TkAgg')  # Використання стандартного бекенду Matplotlib"
   ]
  },
  {
   "cell_type": "markdown",
   "metadata": {},
   "source": [
    "Read file + chek nun"
   ]
  },
  {
   "cell_type": "code",
   "execution_count": 2,
   "metadata": {},
   "outputs": [],
   "source": [
    "# Завантаження даних\n",
    "data = pd.read_csv('kc_house_data.csv')\n",
    "\n",
    "# 1. Аналіз на викиди\n",
    "def detect_outliers(data, column, threshold=1.5):\n",
    "    \"\"\"\n",
    "    Функція для визначення викидів за допомогою методу міжквартильного розмаху (IQR).\n",
    "    \"\"\"\n",
    "    Q1 = data[column].quantile(0.25)\n",
    "    Q3 = data[column].quantile(0.75)\n",
    "    IQR = Q3 - Q1\n",
    "    lower_bound = Q1 - threshold * IQR\n",
    "    upper_bound = Q3 + threshold * IQR\n",
    "    outliers = data[(data[column] < lower_bound) | (data[column] > upper_bound)]\n",
    "    return outliers\n",
    "# Фільтрація тільки числових стовпців\n",
    "numeric_columns = data.select_dtypes(include=[np.number])\n",
    "correlations = numeric_columns.corr()"
   ]
  },
  {
   "cell_type": "markdown",
   "metadata": {},
   "source": [
    "coreletion price"
   ]
  },
  {
   "cell_type": "code",
   "execution_count": 11,
   "metadata": {},
   "outputs": [
    {
     "name": "stdout",
     "output_type": "stream",
     "text": [
      "Кореляції з ціною:\\n price            1.000000\n",
      "sqft_living      0.702035\n",
      "grade            0.667434\n",
      "sqft_above       0.605567\n",
      "sqft_living15    0.585379\n",
      "bathrooms        0.525138\n",
      "view             0.397293\n",
      "sqft_basement    0.323816\n",
      "bedrooms         0.308350\n",
      "lat              0.307003\n",
      "waterfront       0.266369\n",
      "floors           0.256794\n",
      "yr_renovated     0.126434\n",
      "sqft_lot         0.089661\n",
      "sqft_lot15       0.082447\n",
      "yr_built         0.054012\n",
      "condition        0.036362\n",
      "long             0.021626\n",
      "id              -0.016762\n",
      "zipcode         -0.053203\n",
      "Name: price, dtype: float64\n"
     ]
    }
   ],
   "source": [
    "# Кореляції з ціною\n",
    "price_correlations = correlations['price'].sort_values(ascending=False)\n",
    "print(\"Кореляції з ціною:\\\\n\", price_correlations)\n",
    "\n",
    "# Візуалізація матриці кореляцій\n",
    "plt.figure(figsize=(12, 8))\n",
    "sns.heatmap(correlations, annot=True, fmt='.2f', cmap='coolwarm')\n",
    "plt.title('Матриця кореляцій')\n",
    "plt.show()\n",
    "  # Закрити графік після збереження"
   ]
  },
  {
   "cell_type": "markdown",
   "metadata": {},
   "source": [
    "analis target"
   ]
  },
  {
   "cell_type": "code",
   "execution_count": 15,
   "metadata": {},
   "outputs": [
    {
     "name": "stdout",
     "output_type": "stream",
     "text": [
      "Кількість викидів у ціні: 1146\n",
      "Кореляції з ціною:\n",
      " price            1.000000\n",
      "sqft_living      0.702035\n",
      "grade            0.667434\n",
      "sqft_above       0.605567\n",
      "sqft_living15    0.585379\n",
      "bathrooms        0.525138\n",
      "view             0.397293\n",
      "sqft_basement    0.323816\n",
      "bedrooms         0.308350\n",
      "lat              0.307003\n",
      "waterfront       0.266369\n",
      "floors           0.256794\n",
      "yr_renovated     0.126434\n",
      "sqft_lot         0.089661\n",
      "sqft_lot15       0.082447\n",
      "yr_built         0.054012\n",
      "condition        0.036362\n",
      "long             0.021626\n",
      "id              -0.016762\n",
      "zipcode         -0.053203\n",
      "Name: price, dtype: float64\n"
     ]
    }
   ],
   "source": [
    "# Аналіз викидів для ціни (таргет)\n",
    "price_outliers = detect_outliers(data, 'price')\n",
    "print(f\"Кількість викидів у ціні: {len(price_outliers)}\")\n",
    "\n",
    "# 2. Кореляції між таргетом і іншими фічами\n",
    "numeric_columns = data.select_dtypes(include=[np.number])\n",
    "correlations = numeric_columns.corr()\n",
    "print(\"Кореляції з ціною:\\n\", price_correlations)\n",
    "\n",
    "# Візуалізація матриці кореляцій\n",
    "plt.figure(figsize=(12, 8))\n",
    "sns.heatmap(correlations, annot=True, fmt='.2f', cmap='coolwarm')\n",
    "plt.title('Матриця кореляцій')\n",
    "plt.savefig('correlations_coreelations.png')\n",
    "plt.show()"
   ]
  },
  {
   "cell_type": "markdown",
   "metadata": {},
   "source": [
    "other fich"
   ]
  },
  {
   "cell_type": "code",
   "execution_count": 8,
   "metadata": {},
   "outputs": [
    {
     "name": "stdout",
     "output_type": "stream",
     "text": [
      "Графіки збережено у поточній директорії.\n"
     ]
    }
   ],
   "source": [
    "# 3. Розподіли потрібних фіч (ціна і т.д.) і збереження графіків\n",
    "columns_to_plot = ['price', 'sqft_living', 'bedrooms', 'bathrooms']  # Фічі для розподілу\n",
    "\n",
    "for column in columns_to_plot:\n",
    "    plt.figure(figsize=(10, 6))\n",
    "    sns.histplot(data[column], kde=True, bins=30, color='blue')\n",
    "    plt.title(f'Розподіл {column}')\n",
    "    plt.xlabel(column)\n",
    "    plt.ylabel('Частота')\n",
    "    plt.savefig(f'{column}_distribution.png')\n",
    "    plt.show()\n",
    "\n",
    "print(\"Графіки збережено у поточній директорії.\")"
   ]
  }
 ],
 "metadata": {
  "kernelspec": {
   "display_name": "Python 3",
   "language": "python",
   "name": "python3"
  },
  "language_info": {
   "codemirror_mode": {
    "name": "ipython",
    "version": 3
   },
   "file_extension": ".py",
   "mimetype": "text/x-python",
   "name": "python",
   "nbconvert_exporter": "python",
   "pygments_lexer": "ipython3",
   "version": "3.12.6"
  }
 },
 "nbformat": 4,
 "nbformat_minor": 2
}
